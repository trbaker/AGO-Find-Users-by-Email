{
 "cells": [
  {
   "cell_type": "markdown",
   "metadata": {},
   "source": [
    "## Find ArcGIS Online usernames by email\n",
    "\n",
    "By deault, the script will return all publicly visible AGO usernames (accounts). If an admin username, password, and URL are provided, the script will return all usernames in that organization attached to the email address AND all other publicly viewable usernames with that email address.\n",
    "\n",
    "TO ENABLE ORGANIZATIONAL SEARCHING, ENTER CREDENTIALS ABOUT ROW 9 NEXT BOX.\n",
    "\n",
    "ArcGIS Online Python Tools for Schools: http://esriurl.com/Tools4Schools\n",
    "    \n",
    "- trb, September 2017  version 1.0"
   ]
  },
  {
   "cell_type": "code",
   "execution_count": null,
   "metadata": {
    "collapsed": true
   },
   "outputs": [],
   "source": [
    "# import enviros and set vars\n",
    "from arcgis.gis import GIS\n",
    "from IPython.display import display, HTML\n",
    "import pprint \n",
    "\n",
    "###########################################################################\n",
    "# ENTER YOUR CREDENTIALS TO ENABLE ORGANIZATIONAL SEARCHING ###############\n",
    "###########################################################################\n",
    "orgurl = \"\"   # use full URL, eg http://mySchoolName.maps.arcgis.com\n",
    "adminuser = \"\" # login for the admin account \n",
    "adminpw = \"\"   # password for the admin account \n",
    "###########################################################################\n",
    "###########################################################################"
   ]
  },
  {
   "cell_type": "code",
   "execution_count": null,
   "metadata": {},
   "outputs": [],
   "source": [
    "if (len(adminuser)>1 + len(adminpw)>1 + len(orgurl)>10):\n",
    "    gis = GIS(orgurl, adminuser, adminpw)\n",
    "    sType=\"Organizational and Public\"\n",
    "else:\n",
    "    gis = GIS(\"http://arcgis.com\")\n",
    "    sType=\"Public\"\n",
    "i=0\n",
    "\n",
    "gis_users = gis.users.search(query=\"email:cfitzpatrick@esri.com\", max_users=250, outside_org='TRUE')\n",
    "for user in gis_users:\n",
    "    curr=gis.users.get(user.username)\n",
    "    display(curr)\n",
    "    i=i+1\n",
    "\n",
    "print(sType, 'search. Total accounts found: ', i)\n",
    "print(\"  \")\n",
    "print(\"  \")\n",
    "print(\"  \")\n",
    "print(\"script end.\")"
   ]
  },
  {
   "cell_type": "code",
   "execution_count": null,
   "metadata": {
    "collapsed": true
   },
   "outputs": [],
   "source": []
  }
 ],
 "metadata": {
  "kernelspec": {
   "display_name": "Python 3",
   "language": "python",
   "name": "python3"
  },
  "language_info": {
   "codemirror_mode": {
    "name": "ipython",
    "version": 3
   },
   "file_extension": ".py",
   "mimetype": "text/x-python",
   "name": "python",
   "nbconvert_exporter": "python",
   "pygments_lexer": "ipython3",
   "version": "3.6.1"
  }
 },
 "nbformat": 4,
 "nbformat_minor": 2
}
